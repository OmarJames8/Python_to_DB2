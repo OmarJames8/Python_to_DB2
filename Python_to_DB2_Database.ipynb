{
  "nbformat": 4,
  "nbformat_minor": 0,
  "metadata": {
    "colab": {
      "provenance": []
    },
    "kernelspec": {
      "name": "python3",
      "display_name": "Python 3"
    },
    "language_info": {
      "name": "python"
    }
  },
  "cells": [
    {
      "cell_type": "markdown",
      "source": [
        "## Connecting to a Database ✌"
      ],
      "metadata": {
        "id": "6HIbdmDNqPqB"
      }
    },
    {
      "cell_type": "code",
      "source": [
        "#Installing the nesscary libraries to connect to database\n",
        "!pip install --force-reinstall ibm_db==3.1.0 ibm_db_sa==0.3.3\n",
        "# Ensure we don't load_ext with sqlalchemy>=1.4 (incompadible)\n",
        "!pip uninstall sqlalchemy==1.4 -y && pip install sqlalchemy==1.3.24\n",
        "!pip install ipython-sql"
      ],
      "metadata": {
        "colab": {
          "base_uri": "https://localhost:8080/"
        },
        "id": "TTon74lYqcZw",
        "outputId": "10b7de1b-6884-49e6-add4-ddd99e4ba2b6"
      },
      "execution_count": null,
      "outputs": [
        {
          "output_type": "stream",
          "name": "stdout",
          "text": [
            "Looking in indexes: https://pypi.org/simple, https://us-python.pkg.dev/colab-wheels/public/simple/\n",
            "Collecting ibm_db==3.1.0\n",
            "  Downloading ibm_db-3.1.0.tar.gz (797 kB)\n",
            "\u001b[2K     \u001b[90m━━━━━━━━━━━━━━━━━━━━━━━━━━━━━━━━━━━━━━\u001b[0m \u001b[32m797.3/797.3 KB\u001b[0m \u001b[31m18.7 MB/s\u001b[0m eta \u001b[36m0:00:00\u001b[0m\n",
            "\u001b[?25h  Installing build dependencies ... \u001b[?25l\u001b[?25hdone\n",
            "  Getting requirements to build wheel ... \u001b[?25l\u001b[?25hdone\n",
            "  Installing backend dependencies ... \u001b[?25l\u001b[?25hdone\n",
            "  Preparing metadata (pyproject.toml) ... \u001b[?25l\u001b[?25hdone\n",
            "Collecting ibm_db_sa==0.3.3\n",
            "  Downloading ibm_db_sa-0.3.3.tar.gz (24 kB)\n",
            "  Preparing metadata (setup.py) ... \u001b[?25l\u001b[?25hdone\n",
            "Collecting sqlalchemy>=0.7.3\n",
            "  Downloading SQLAlchemy-2.0.9-cp39-cp39-manylinux_2_17_x86_64.manylinux2014_x86_64.whl (2.8 MB)\n",
            "\u001b[2K     \u001b[90m━━━━━━━━━━━━━━━━━━━━━━━━━━━━━━━━━━━━━━━━\u001b[0m \u001b[32m2.8/2.8 MB\u001b[0m \u001b[31m74.8 MB/s\u001b[0m eta \u001b[36m0:00:00\u001b[0m\n",
            "\u001b[?25hCollecting greenlet!=0.4.17\n",
            "  Downloading greenlet-2.0.2-cp39-cp39-manylinux_2_17_x86_64.manylinux2014_x86_64.whl (610 kB)\n",
            "\u001b[2K     \u001b[90m━━━━━━━━━━━━━━━━━━━━━━━━━━━━━━━━━━━━━━\u001b[0m \u001b[32m610.9/610.9 KB\u001b[0m \u001b[31m47.6 MB/s\u001b[0m eta \u001b[36m0:00:00\u001b[0m\n",
            "\u001b[?25hCollecting typing-extensions>=4.2.0\n",
            "  Downloading typing_extensions-4.5.0-py3-none-any.whl (27 kB)\n",
            "Building wheels for collected packages: ibm_db, ibm_db_sa\n",
            "  Building wheel for ibm_db (pyproject.toml) ... \u001b[?25l\u001b[?25hdone\n",
            "  Created wheel for ibm_db: filename=ibm_db-3.1.0-cp39-cp39-linux_x86_64.whl size=41725857 sha256=1fea046e5bcd766c6473b6a48e5d31472fe3fbca7d6b348d5499842f7ee0a5e9\n",
            "  Stored in directory: /root/.cache/pip/wheels/0a/dd/10/4a9ad59949e39786d729813e4bce24ccf2263c6d60a62de2f2\n",
            "  Building wheel for ibm_db_sa (setup.py) ... \u001b[?25l\u001b[?25hdone\n",
            "  Created wheel for ibm_db_sa: filename=ibm_db_sa-0.3.3-py3-none-any.whl size=27425 sha256=69973013342ed587a1e10da4d6f60e891f37527bb101a0a937a8d69ce6b7d899\n",
            "  Stored in directory: /root/.cache/pip/wheels/8f/98/0c/930c68279890092297e12d4cc20e95613ddab15af6753d92bb\n",
            "Successfully built ibm_db ibm_db_sa\n",
            "Installing collected packages: ibm_db, typing-extensions, greenlet, sqlalchemy, ibm_db_sa\n",
            "  Attempting uninstall: typing-extensions\n",
            "    Found existing installation: typing_extensions 4.5.0\n",
            "    Uninstalling typing_extensions-4.5.0:\n",
            "      Successfully uninstalled typing_extensions-4.5.0\n",
            "  Attempting uninstall: greenlet\n",
            "    Found existing installation: greenlet 2.0.2\n",
            "    Uninstalling greenlet-2.0.2:\n",
            "      Successfully uninstalled greenlet-2.0.2\n",
            "  Attempting uninstall: sqlalchemy\n",
            "    Found existing installation: SQLAlchemy 1.4.47\n",
            "    Uninstalling SQLAlchemy-1.4.47:\n",
            "      Successfully uninstalled SQLAlchemy-1.4.47\n",
            "Successfully installed greenlet-2.0.2 ibm_db-3.1.0 ibm_db_sa-0.3.3 sqlalchemy-2.0.9 typing-extensions-4.5.0\n",
            "Found existing installation: SQLAlchemy 2.0.9\n",
            "Uninstalling SQLAlchemy-2.0.9:\n",
            "  Successfully uninstalled SQLAlchemy-2.0.9\n",
            "Looking in indexes: https://pypi.org/simple, https://us-python.pkg.dev/colab-wheels/public/simple/\n",
            "Collecting sqlalchemy==1.3.24\n",
            "  Downloading SQLAlchemy-1.3.24-cp39-cp39-manylinux2010_x86_64.whl (1.3 MB)\n",
            "\u001b[2K     \u001b[90m━━━━━━━━━━━━━━━━━━━━━━━━━━━━━━━━━━━━━━━━\u001b[0m \u001b[32m1.3/1.3 MB\u001b[0m \u001b[31m24.8 MB/s\u001b[0m eta \u001b[36m0:00:00\u001b[0m\n",
            "\u001b[?25hInstalling collected packages: sqlalchemy\n",
            "Successfully installed sqlalchemy-1.3.24\n",
            "Looking in indexes: https://pypi.org/simple, https://us-python.pkg.dev/colab-wheels/public/simple/\n",
            "Requirement already satisfied: ipython-sql in /usr/local/lib/python3.9/dist-packages (0.4.1)\n",
            "Requirement already satisfied: sqlparse in /usr/local/lib/python3.9/dist-packages (from ipython-sql) (0.4.3)\n",
            "Requirement already satisfied: ipython-genutils>=0.1.0 in /usr/local/lib/python3.9/dist-packages (from ipython-sql) (0.2.0)\n",
            "Requirement already satisfied: sqlalchemy>=0.6.7 in /usr/local/lib/python3.9/dist-packages (from ipython-sql) (1.3.24)\n",
            "Requirement already satisfied: six in /usr/local/lib/python3.9/dist-packages (from ipython-sql) (1.16.0)\n",
            "Requirement already satisfied: prettytable<1 in /usr/local/lib/python3.9/dist-packages (from ipython-sql) (0.7.2)\n",
            "Requirement already satisfied: ipython>=1.0 in /usr/local/lib/python3.9/dist-packages (from ipython-sql) (7.34.0)\n",
            "Requirement already satisfied: traitlets>=4.2 in /usr/local/lib/python3.9/dist-packages (from ipython>=1.0->ipython-sql) (5.7.1)\n",
            "Requirement already satisfied: prompt-toolkit!=3.0.0,!=3.0.1,<3.1.0,>=2.0.0 in /usr/local/lib/python3.9/dist-packages (from ipython>=1.0->ipython-sql) (3.0.38)\n",
            "Requirement already satisfied: decorator in /usr/local/lib/python3.9/dist-packages (from ipython>=1.0->ipython-sql) (4.4.2)\n",
            "Collecting jedi>=0.16\n",
            "  Downloading jedi-0.18.2-py2.py3-none-any.whl (1.6 MB)\n",
            "\u001b[2K     \u001b[90m━━━━━━━━━━━━━━━━━━━━━━━━━━━━━━━━━━━━━━━━\u001b[0m \u001b[32m1.6/1.6 MB\u001b[0m \u001b[31m29.7 MB/s\u001b[0m eta \u001b[36m0:00:00\u001b[0m\n",
            "\u001b[?25hRequirement already satisfied: pexpect>4.3 in /usr/local/lib/python3.9/dist-packages (from ipython>=1.0->ipython-sql) (4.8.0)\n",
            "Requirement already satisfied: setuptools>=18.5 in /usr/local/lib/python3.9/dist-packages (from ipython>=1.0->ipython-sql) (67.6.1)\n",
            "Requirement already satisfied: pygments in /usr/local/lib/python3.9/dist-packages (from ipython>=1.0->ipython-sql) (2.14.0)\n",
            "Requirement already satisfied: pickleshare in /usr/local/lib/python3.9/dist-packages (from ipython>=1.0->ipython-sql) (0.7.5)\n",
            "Requirement already satisfied: backcall in /usr/local/lib/python3.9/dist-packages (from ipython>=1.0->ipython-sql) (0.2.0)\n",
            "Requirement already satisfied: matplotlib-inline in /usr/local/lib/python3.9/dist-packages (from ipython>=1.0->ipython-sql) (0.1.6)\n",
            "Requirement already satisfied: parso<0.9.0,>=0.8.0 in /usr/local/lib/python3.9/dist-packages (from jedi>=0.16->ipython>=1.0->ipython-sql) (0.8.3)\n",
            "Requirement already satisfied: ptyprocess>=0.5 in /usr/local/lib/python3.9/dist-packages (from pexpect>4.3->ipython>=1.0->ipython-sql) (0.7.0)\n",
            "Requirement already satisfied: wcwidth in /usr/local/lib/python3.9/dist-packages (from prompt-toolkit!=3.0.0,!=3.0.1,<3.1.0,>=2.0.0->ipython>=1.0->ipython-sql) (0.2.6)\n",
            "Installing collected packages: jedi\n",
            "Successfully installed jedi-0.18.2\n"
          ]
        }
      ]
    },
    {
      "cell_type": "code",
      "source": [
        "#Importing libary and adding dsn variable\n",
        "import ibm_db"
      ],
      "metadata": {
        "id": "LJhrWSZvzJVk"
      },
      "execution_count": null,
      "outputs": []
    },
    {
      "cell_type": "code",
      "source": [
        "# Set the database connection values\n",
        "dsn_driver = \"{IBM DB2 ODBC DRIVER}\"\n",
        "dsn_database = \"BLUDB\"\n",
        "dsn_hostname = \"98538591-7217-4024-b027-8baa776ffad1.c3n41cmd0nqnrk39u98g.databases.appdomain.cloud\"\n",
        "dsn_port = \"30875\"\n",
        "dsn_protocol = \"TCPIP\"\n",
        "dsn_uid = \"tpq62680\"\n",
        "dsn_pwd = \"hWh3k53BtGlPVxCF\"\n",
        "dsn_security = \"SSL\"\n",
        "\n",
        "# Set the CLI arguments\n",
        "cli_args = [\"-u\", dsn_uid, \"-p\", dsn_pwd, \"--ssl\", \"--sslCAFile\", \"2ce1ab40-7379-45d8-a40c-38dcafaf95d0\", \"--authenticationDatabase\", \"admin\", \"--host\", f\"{dsn_hostname}:{dsn_port}\"]\n",
        "\n",
        "# Combine the database connection and CLI argument values into the DSN string\n",
        "dsn = (\n",
        "    \"DRIVER={0};\"\n",
        "    \"DATABASE={1};\"\n",
        "    \"HOSTNAME={2};\"\n",
        "    \"PORT={3};\"\n",
        "    \"PROTOCOL={4};\"\n",
        "    \"UID={5};\"\n",
        "    \"PWD={6};\"\n",
        "    \"SECURITY={7};\"\n",
        "    \"CLI={8};\").format(dsn_driver, dsn_database, dsn_hostname, dsn_port, dsn_protocol, dsn_uid, dsn_pwd, dsn_security, \" \".join(cli_args))\n",
        "\n",
        "# Print the connection string to check that the correct values are specified\n",
        "print(dsn)\n"
      ],
      "metadata": {
        "colab": {
          "base_uri": "https://localhost:8080/"
        },
        "id": "wsVPNX2o6S5R",
        "outputId": "b265991e-ab98-4003-864b-da4abf766ee0"
      },
      "execution_count": null,
      "outputs": [
        {
          "output_type": "stream",
          "name": "stdout",
          "text": [
            "DRIVER={IBM DB2 ODBC DRIVER};DATABASE=BLUDB;HOSTNAME=98538591-7217-4024-b027-8baa776ffad1.c3n41cmd0nqnrk39u98g.databases.appdomain.cloud;PORT=30875;PROTOCOL=TCPIP;UID=tpq62680;PWD=hWh3k53BtGlPVxCF;SECURITY=SSL;CLI=-u tpq62680 -p hWh3k53BtGlPVxCF --ssl --sslCAFile 2ce1ab40-7379-45d8-a40c-38dcafaf95d0 --authenticationDatabase admin --host 98538591-7217-4024-b027-8baa776ffad1.c3n41cmd0nqnrk39u98g.databases.appdomain.cloud:30875;\n"
          ]
        }
      ]
    },
    {
      "cell_type": "code",
      "source": [
        "try:\n",
        "    conn = ibm_db.connect(dsn, \"\", \"\")\n",
        "    print (\"Connected to database: \", dsn_database, \"as user: \", dsn_uid, \"on host: \", dsn_hostname)\n",
        "\n",
        "except:\n",
        "    print (\"Unable to connect: \", ibm_db.conn_errormsg() )"
      ],
      "metadata": {
        "colab": {
          "base_uri": "https://localhost:8080/"
        },
        "id": "ApcjuAE38mKA",
        "outputId": "d67c0972-e617-439e-96fa-91bf84498d8b"
      },
      "execution_count": null,
      "outputs": [
        {
          "output_type": "stream",
          "name": "stdout",
          "text": [
            "Connected to database:  BLUDB as user:  tpq62680 on host:  98538591-7217-4024-b027-8baa776ffad1.c3n41cmd0nqnrk39u98g.databases.appdomain.cloud\n"
          ]
        }
      ]
    },
    {
      "cell_type": "markdown",
      "source": [
        "✊ Database connection "
      ],
      "metadata": {
        "id": "b_VmLatAFfAD"
      }
    },
    {
      "cell_type": "code",
      "source": [
        "#Retrieve Metadata for the Database Server\n",
        "server = ibm_db.server_info(conn)\n",
        "\n",
        "print (\"DBMS_NAME: \", server.DBMS_NAME)\n",
        "print (\"DBMS_VER:  \", server.DBMS_VER)\n",
        "print (\"DB_NAME:   \", server.DB_NAME)"
      ],
      "metadata": {
        "colab": {
          "base_uri": "https://localhost:8080/"
        },
        "id": "uDNeXAwNFlat",
        "outputId": "a016d599-5ea8-4647-d01e-7e6ee164c7fc"
      },
      "execution_count": null,
      "outputs": [
        {
          "output_type": "stream",
          "name": "stdout",
          "text": [
            "DBMS_NAME:  DB2/LINUXX8664\n",
            "DBMS_VER:   11.05.0800\n",
            "DB_NAME:    BLUDB\n"
          ]
        }
      ]
    },
    {
      "cell_type": "code",
      "source": [
        "#Retrieve Metadata for the Database Client / Driver\n",
        "client = ibm_db.client_info(conn)\n",
        "\n",
        "print (\"DRIVER_NAME:          \", client.DRIVER_NAME) \n",
        "print (\"DRIVER_VER:           \", client.DRIVER_VER)\n",
        "print (\"DATA_SOURCE_NAME:     \", client.DATA_SOURCE_NAME)\n",
        "print (\"DRIVER_ODBC_VER:      \", client.DRIVER_ODBC_VER)\n",
        "print (\"ODBC_VER:             \", client.ODBC_VER)\n",
        "print (\"ODBC_SQL_CONFORMANCE: \", client.ODBC_SQL_CONFORMANCE)\n",
        "print (\"APPL_CODEPAGE:        \", client.APPL_CODEPAGE)\n",
        "print (\"CONN_CODEPAGE:        \", client.CONN_CODEPAGE)"
      ],
      "metadata": {
        "colab": {
          "base_uri": "https://localhost:8080/"
        },
        "id": "yPeb3QZqGcXl",
        "outputId": "29c3963c-6d2a-404f-c13c-7542544687ed"
      },
      "execution_count": null,
      "outputs": [
        {
          "output_type": "stream",
          "name": "stdout",
          "text": [
            "DRIVER_NAME:           libdb2.a\n",
            "DRIVER_VER:            11.05.0800\n",
            "DATA_SOURCE_NAME:      BLUDB\n",
            "DRIVER_ODBC_VER:       03.51\n",
            "ODBC_VER:              03.01.0000\n",
            "ODBC_SQL_CONFORMANCE:  EXTENDED\n",
            "APPL_CODEPAGE:         1208\n",
            "CONN_CODEPAGE:         1208\n"
          ]
        }
      ]
    },
    {
      "cell_type": "code",
      "source": [
        "#Now its time to close the connection to free up our resources \n",
        "ibm_db.close(conn)"
      ],
      "metadata": {
        "colab": {
          "base_uri": "https://localhost:8080/"
        },
        "id": "dZJk-lSRGkbM",
        "outputId": "0f1e5736-6a65-4c06-d8fd-a56e6ff6f88e"
      },
      "execution_count": null,
      "outputs": [
        {
          "output_type": "execute_result",
          "data": {
            "text/plain": [
              "True"
            ]
          },
          "metadata": {},
          "execution_count": 7
        }
      ]
    },
    {
      "cell_type": "markdown",
      "source": [
        "Successful connection to a  DB2 Database on Cloud database from a Python notebook using ibm_db API 😉"
      ],
      "metadata": {
        "id": "zB551gmoHJ_T"
      }
    },
    {
      "cell_type": "code",
      "source": [],
      "metadata": {
        "id": "X-quu-0qH0RF"
      },
      "execution_count": null,
      "outputs": []
    }
  ]
}